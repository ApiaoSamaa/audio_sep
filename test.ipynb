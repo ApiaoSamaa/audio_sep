{
 "cells": [
  {
   "cell_type": "code",
   "execution_count": null,
   "metadata": {},
   "outputs": [],
   "source": [
    "from torchaudio.datasets import MUSDB_HQ\n",
    "\n",
    "\n",
    "if __name__ == \"__main__\":\n",
    "    # Download the dataset\n",
    "    musdb = MUSDB_HQ(root=\"data\", subset=\"train\", download=True)\n",
    "\n",
    "    # Access a track\n",
    "    track = musdb[0]\n",
    "    piece = track.audio\n",
    "    # Play the mixture\n",
    "    track.audio"
   ]
  }
 ],
 "metadata": {
  "language_info": {
   "name": "python"
  },
  "orig_nbformat": 4
 },
 "nbformat": 4,
 "nbformat_minor": 2
}
